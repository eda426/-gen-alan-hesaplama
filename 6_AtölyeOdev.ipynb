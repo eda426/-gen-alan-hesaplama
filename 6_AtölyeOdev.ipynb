{
  "nbformat": 4,
  "nbformat_minor": 0,
  "metadata": {
    "colab": {
      "provenance": [],
      "authorship_tag": "ABX9TyPOzeKkoc+k87YJZsCTtknM",
      "include_colab_link": true
    },
    "kernelspec": {
      "name": "python3",
      "display_name": "Python 3"
    },
    "language_info": {
      "name": "python"
    }
  },
  "cells": [
    {
      "cell_type": "markdown",
      "metadata": {
        "id": "view-in-github",
        "colab_type": "text"
      },
      "source": [
        "<a href=\"https://colab.research.google.com/github/eda426/-gen-alan-hesaplama/blob/main/6_At%C3%B6lyeOdev.ipynb\" target=\"_parent\"><img src=\"https://colab.research.google.com/assets/colab-badge.svg\" alt=\"Open In Colab\"/></a>"
      ]
    },
    {
      "cell_type": "code",
      "execution_count": 1,
      "metadata": {
        "colab": {
          "base_uri": "https://localhost:8080/"
        },
        "id": "UTGOKMJXvXoe",
        "outputId": "8478c9e9-1801-441e-b1e1-6fed9411fc77"
      },
      "outputs": [
        {
          "output_type": "execute_result",
          "data": {
            "text/plain": [
              "{'Ahmet': {'Matematik': 85, 'Fizik': 78, 'Kimya': 92},\n",
              " 'Mehmet': {'Matematik': 74, 'Fizik': 81, 'Kimya': 69},\n",
              " 'Ayşe': {'Matematik': 90, 'Fizik': 88, 'Kimya': 95}}"
            ]
          },
          "metadata": {},
          "execution_count": 1
        }
      ],
      "source": [
        "# Sözlük:\n",
        "\n",
        "# Bir sözlük oluşturulur ve bu sözlükte öğrencilerin isimleri ve Matematik, Fizik, Kimya notları tutulur.\n",
        "\n",
        "\n",
        "ogrenciler={\n",
        "    \"Ahmet\": {\"Matematik\": 85, \"Fizik\": 78, \"Kimya\": 92},\n",
        "    \"Mehmet\": {\"Matematik\": 74, \"Fizik\": 81, \"Kimya\": 69},\n",
        "    \"Ayşe\": {\"Matematik\": 90, \"Fizik\": 88, \"Kimya\": 95}\n",
        "}\n",
        "ogrenciler"
      ]
    },
    {
      "cell_type": "code",
      "source": [
        "# Kullanıcıdan isim ve ders ismi(Matematik, Fizik, Kimya) istenir ve bu bilgilere göre çıktı verilir.\n",
        "isim=input(\"Öğrenci ismi giriniz: \")\n",
        "ders=input(\"Ders giriniz: \")\n",
        "for ogrenci_adi, dersler in ogrenciler.items():\n",
        "    if ogrenci_adi.lower() == isim.lower():  # Büyük küçük harf duyarsız yapıyoruz\n",
        "        for ders_adi, notu in dersler.items():\n",
        "            if ders_adi.lower() == ders.lower():\n",
        "                print(f\"{ogrenci_adi} adlı öğrencinin {ders_adi} notu: {notu}\")\n",
        "                bulundu = True\n",
        "                break\n",
        "        if not bulundu:\n",
        "            print(\"Geçersiz ders ismi girdiniz.\")\n",
        "        bulundu = True\n",
        "        break\n",
        "\n",
        "if not bulundu:\n",
        "    print(\"Öğrenci bulunamadı.\")"
      ],
      "metadata": {
        "colab": {
          "base_uri": "https://localhost:8080/"
        },
        "id": "ySsVwtA4v6Na",
        "outputId": "a0cb86aa-d8fa-46a5-d73b-56cda5c9d1ae"
      },
      "execution_count": 4,
      "outputs": [
        {
          "output_type": "stream",
          "name": "stdout",
          "text": [
            "Öğrenci ismi giriniz: ahmet\n",
            "Ders giriniz: matematik\n",
            "Ahmet adlı öğrencinin Matematik notu: 85\n"
          ]
        }
      ]
    },
    {
      "cell_type": "code",
      "source": [],
      "metadata": {
        "id": "gGLf9CNfxiMo"
      },
      "execution_count": null,
      "outputs": []
    }
  ]
}