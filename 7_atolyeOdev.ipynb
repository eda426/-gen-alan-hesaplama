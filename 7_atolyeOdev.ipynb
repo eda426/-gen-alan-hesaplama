{
  "nbformat": 4,
  "nbformat_minor": 0,
  "metadata": {
    "colab": {
      "provenance": [],
      "authorship_tag": "ABX9TyM0wWvsdWV86ID6Cmbj+INE",
      "include_colab_link": true
    },
    "kernelspec": {
      "name": "python3",
      "display_name": "Python 3"
    },
    "language_info": {
      "name": "python"
    }
  },
  "cells": [
    {
      "cell_type": "markdown",
      "metadata": {
        "id": "view-in-github",
        "colab_type": "text"
      },
      "source": [
        "<a href=\"https://colab.research.google.com/github/eda426/-gen-alan-hesaplama/blob/main/7_atolyeOdev.ipynb\" target=\"_parent\"><img src=\"https://colab.research.google.com/assets/colab-badge.svg\" alt=\"Open In Colab\"/></a>"
      ]
    },
    {
      "cell_type": "code",
      "source": [
        "!pip install numpy"
      ],
      "metadata": {
        "colab": {
          "base_uri": "https://localhost:8080/"
        },
        "id": "ZhYHT8BBAKlX",
        "outputId": "12430cfb-de9e-462e-f309-b4d3ee9e4968"
      },
      "execution_count": 2,
      "outputs": [
        {
          "output_type": "stream",
          "name": "stdout",
          "text": [
            "Requirement already satisfied: numpy in /usr/local/lib/python3.11/dist-packages (2.0.2)\n"
          ]
        }
      ]
    },
    {
      "cell_type": "code",
      "source": [
        "import numpy as np"
      ],
      "metadata": {
        "id": "mt4N0NX4AMaz"
      },
      "execution_count": 3,
      "outputs": []
    },
    {
      "cell_type": "code",
      "execution_count": 8,
      "metadata": {
        "colab": {
          "base_uri": "https://localhost:8080/"
        },
        "id": "MiWtQQ2--5vb",
        "outputId": "79dc22dd-6c93-4ed1-a7e5-5a83dff95b80"
      },
      "outputs": [
        {
          "output_type": "stream",
          "name": "stdout",
          "text": [
            "1\n",
            "4\n"
          ]
        }
      ],
      "source": [
        "# 1.Sayılardan oluşan bir boyutlu array oluşturun. Arrayi oluştururken sayıların veri tipini integer olarak belirtelim.\n",
        "\n",
        "# Oluşturulan arrayin boyut, eleman sayısı bilgilerine bakalım.\n",
        "\n",
        "np.array([1,2,3,4],dtype=\"int\")\n",
        "arr=np.array([1,2,3,4],dtype=\"int\")\n",
        "print(arr.ndim)\n",
        "print(arr.size)\n"
      ]
    },
    {
      "cell_type": "code",
      "source": [
        "# 2. Aşağıda verilen iki boyutlu ve üç boyutlu arrayi oluşturalım. Bu arraylerin boyut, eleman sayısı, satır, sütun bilgilerine ulaşalım.\n",
        "\n",
        "# İki boyutlu array:\n",
        "# [[1,2,6,7],\n",
        "# [4,3,9,5]]\n",
        "\n",
        "# Üç boyutlu array:\n",
        "# [[[7,5,14],[21,8,11]],\n",
        "# [[8,6,20],[14,3,9]]]\n",
        "\n",
        "arr2=np.array([[1,2,6,7],[4,3,9,5]])\n",
        "arr3=np.array([[[7,5,14],[21,8,11]],[[8,6,20],[14,3,9]]])\n",
        "print(arr2.ndim,arr2.size,arr2.shape)\n",
        "print(arr3.ndim,arr3.size,arr3.shape)"
      ],
      "metadata": {
        "colab": {
          "base_uri": "https://localhost:8080/"
        },
        "id": "AfWm1WefAPZn",
        "outputId": "93004479-7794-4bcc-abf6-25169cfc9d53"
      },
      "execution_count": 9,
      "outputs": [
        {
          "output_type": "stream",
          "name": "stdout",
          "text": [
            "2 8 (2, 4)\n",
            "3 12 (2, 2, 3)\n"
          ]
        }
      ]
    },
    {
      "cell_type": "code",
      "source": [
        "# 3. İstenilen elamanlara ulaşmak için arrayler üzerinde indexleme işlemi yapalım.\n",
        "\n",
        "# İki boyutlu arraydaki 2 elemanına ulaşalım.\n",
        "\n",
        "# İki boyutlu arraydaki 7 elemanına ulaşalım.\n",
        "\n",
        "# Üç boyutlu arraydaki 9 elemanına ulaşalım.\n",
        "\n",
        "# Üç boyutlu arraydaki 5 elemanına ulaşalım.\n",
        "\n",
        "print(arr2[1,1])\n",
        "print(arr2[0,3])\n",
        "print(arr3[1,1,2])\n",
        "print(arr3[0,0,1])\n"
      ],
      "metadata": {
        "colab": {
          "base_uri": "https://localhost:8080/"
        },
        "id": "D3XldM8TBG30",
        "outputId": "183e5b9c-d1ab-49a0-d149-dc386be5269e"
      },
      "execution_count": 13,
      "outputs": [
        {
          "output_type": "stream",
          "name": "stdout",
          "text": [
            "3\n",
            "7\n",
            "9\n",
            "5\n"
          ]
        }
      ]
    },
    {
      "cell_type": "code",
      "source": [
        "# 4. Arrayler üzerinde slicing işlemi uygulayalım.\n",
        "\n",
        "# İki boyutlu arraydaki 2,6 elemanlarına ulaşalım.\n",
        "print(arr2[0,1:3])\n",
        "\n",
        "# İki boyutlu arraydaki 3,9,5 elemanlarına ulaşalım.\n",
        "print(arr2[1,1:4])\n",
        "# Üç boyutlu arraydaki 21,8,11 elemanlarına ulaşalım.\n",
        "print(arr3[0,1,:])\n",
        "# Üç boyutlu arraydaki 6,20 elemanlarına ulaşalım.\n",
        "print(arr3[1,0,1:3])\n"
      ],
      "metadata": {
        "colab": {
          "base_uri": "https://localhost:8080/"
        },
        "id": "UyjxA8tKCQ7f",
        "outputId": "6a7b3517-c899-403a-8623-c89e25e7a365"
      },
      "execution_count": 18,
      "outputs": [
        {
          "output_type": "stream",
          "name": "stdout",
          "text": [
            "[2 6]\n",
            "[3 9 5]\n",
            "[21  8 11]\n",
            "[ 6 20]\n"
          ]
        }
      ]
    },
    {
      "cell_type": "code",
      "source": [
        "#5 satır 3 sütunluk sıfırlardan ve birlerden oluşan iki tane iki boyutlu array oluşturalım. Bu arrayleri satır ve sütun bazında birleştirelim\n",
        "\n",
        "arr_zeros = np.zeros((5, 3), dtype=int)\n",
        "arr_ones = np.ones((5, 3), dtype=int)\n",
        "satir_bazinda = np.concatenate((arr_zeros, arr_ones), axis=0)\n",
        "sutun_bazinda = np.concatenate((arr_zeros, arr_ones), axis=1)\n",
        "\n",
        "print(\"Sıfırlar:\\n\", arr_zeros)\n",
        "print(\"\\nBirler:\\n\", arr_ones)\n",
        "print(\"\\nSatır bazında birleştirme (10x3):\\n\", satir_bazinda)\n",
        "print(\"\\nSütun bazında birleştirme (5x6):\\n\", sutun_bazinda)"
      ],
      "metadata": {
        "colab": {
          "base_uri": "https://localhost:8080/"
        },
        "id": "B1SD4OTxEAp3",
        "outputId": "bc470880-603a-4b75-91ff-555bd4e05c1a"
      },
      "execution_count": 19,
      "outputs": [
        {
          "output_type": "stream",
          "name": "stdout",
          "text": [
            "Sıfırlar:\n",
            " [[0 0 0]\n",
            " [0 0 0]\n",
            " [0 0 0]\n",
            " [0 0 0]\n",
            " [0 0 0]]\n",
            "\n",
            "Birler:\n",
            " [[1 1 1]\n",
            " [1 1 1]\n",
            " [1 1 1]\n",
            " [1 1 1]\n",
            " [1 1 1]]\n",
            "\n",
            "Satır bazında birleştirme (10x3):\n",
            " [[0 0 0]\n",
            " [0 0 0]\n",
            " [0 0 0]\n",
            " [0 0 0]\n",
            " [0 0 0]\n",
            " [1 1 1]\n",
            " [1 1 1]\n",
            " [1 1 1]\n",
            " [1 1 1]\n",
            " [1 1 1]]\n",
            "\n",
            "Sütun bazında birleştirme (5x6):\n",
            " [[0 0 0 1 1 1]\n",
            " [0 0 0 1 1 1]\n",
            " [0 0 0 1 1 1]\n",
            " [0 0 0 1 1 1]\n",
            " [0 0 0 1 1 1]]\n"
          ]
        }
      ]
    }
  ]
}