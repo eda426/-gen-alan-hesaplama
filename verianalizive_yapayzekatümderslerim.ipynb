{
  "nbformat": 4,
  "nbformat_minor": 0,
  "metadata": {
    "colab": {
      "provenance": [],
      "authorship_tag": "ABX9TyNSusRYS94BewpR/H/Bsiq9",
      "include_colab_link": true
    },
    "kernelspec": {
      "name": "python3",
      "display_name": "Python 3"
    },
    "language_info": {
      "name": "python"
    }
  },
  "cells": [
    {
      "cell_type": "markdown",
      "metadata": {
        "id": "view-in-github",
        "colab_type": "text"
      },
      "source": [
        "<a href=\"https://colab.research.google.com/github/eda426/-gen-alan-hesaplama/blob/main/verianalizive_yapayzekat%C3%BCmderslerim.ipynb\" target=\"_parent\"><img src=\"https://colab.research.google.com/assets/colab-badge.svg\" alt=\"Open In Colab\"/></a>"
      ]
    },
    {
      "cell_type": "code",
      "execution_count": null,
      "metadata": {
        "id": "KzSciwySKjPJ"
      },
      "outputs": [],
      "source": [
        "# in Operatörü: Bir değerin bir veri yapısında bulunup bulunmadığını kontrol eder."
      ]
    },
    {
      "cell_type": "code",
      "source": [
        "atolye=\"yazılımla güçlenen kadınlar\"\n",
        "atolye"
      ],
      "metadata": {
        "colab": {
          "base_uri": "https://localhost:8080/",
          "height": 35
        },
        "id": "R-9EKPMxK5Vu",
        "outputId": "5b84a6fd-e15a-4ec8-bb61-ee11374dbcc0"
      },
      "execution_count": null,
      "outputs": [
        {
          "output_type": "execute_result",
          "data": {
            "text/plain": [
              "'yazılımla güçlenen kadınlar'"
            ],
            "application/vnd.google.colaboratory.intrinsic+json": {
              "type": "string"
            }
          },
          "metadata": {},
          "execution_count": 1
        }
      ]
    },
    {
      "cell_type": "code",
      "source": [
        "\"l\" in atolye"
      ],
      "metadata": {
        "colab": {
          "base_uri": "https://localhost:8080/"
        },
        "id": "IeFDwM7QLI33",
        "outputId": "70117a0d-a8c1-425d-bab2-b53e7ce244f7"
      },
      "execution_count": null,
      "outputs": [
        {
          "output_type": "execute_result",
          "data": {
            "text/plain": [
              "True"
            ]
          },
          "metadata": {},
          "execution_count": 2
        }
      ]
    },
    {
      "cell_type": "code",
      "source": [
        "\"v\" in atolye"
      ],
      "metadata": {
        "colab": {
          "base_uri": "https://localhost:8080/"
        },
        "id": "SuUviC8YLPhk",
        "outputId": "c80037d5-918a-4782-f073-53162da2b09d"
      },
      "execution_count": null,
      "outputs": [
        {
          "output_type": "execute_result",
          "data": {
            "text/plain": [
              "False"
            ]
          },
          "metadata": {},
          "execution_count": 3
        }
      ]
    },
    {
      "cell_type": "code",
      "source": [
        "len(286382468246)"
      ],
      "metadata": {
        "colab": {
          "base_uri": "https://localhost:8080/",
          "height": 141
        },
        "id": "3MaA-gYaLfXv",
        "outputId": "52f99b2a-2821-4b61-8b05-1e814f9c3a60"
      },
      "execution_count": null,
      "outputs": [
        {
          "output_type": "error",
          "ename": "TypeError",
          "evalue": "object of type 'int' has no len()",
          "traceback": [
            "\u001b[0;31m---------------------------------------------------------------------------\u001b[0m",
            "\u001b[0;31mTypeError\u001b[0m                                 Traceback (most recent call last)",
            "\u001b[0;32m/tmp/ipython-input-4-388888915.py\u001b[0m in \u001b[0;36m<cell line: 0>\u001b[0;34m()\u001b[0m\n\u001b[0;32m----> 1\u001b[0;31m \u001b[0mlen\u001b[0m\u001b[0;34m(\u001b[0m\u001b[0;36m286382468246\u001b[0m\u001b[0;34m)\u001b[0m\u001b[0;34m\u001b[0m\u001b[0;34m\u001b[0m\u001b[0m\n\u001b[0m",
            "\u001b[0;31mTypeError\u001b[0m: object of type 'int' has no len()"
          ]
        }
      ]
    },
    {
      "cell_type": "code",
      "source": [
        "len(\"286382468246\")#len fonksiyonu nesnenin uzunluğunu veya eleman sayısını döndürür"
      ],
      "metadata": {
        "colab": {
          "base_uri": "https://localhost:8080/"
        },
        "id": "yZokWVlULlWE",
        "outputId": "28008ffb-18f8-4fe6-f188-992b16d3e82c"
      },
      "execution_count": null,
      "outputs": [
        {
          "output_type": "execute_result",
          "data": {
            "text/plain": [
              "12"
            ]
          },
          "metadata": {},
          "execution_count": 5
        }
      ]
    },
    {
      "cell_type": "code",
      "source": [
        "tc_no=\"16729493792\"\n",
        "len(tc_no)"
      ],
      "metadata": {
        "colab": {
          "base_uri": "https://localhost:8080/"
        },
        "id": "DK9Dk_BVL2hL",
        "outputId": "32cc23d9-b1dc-467c-bd88-1ecf4894d507"
      },
      "execution_count": null,
      "outputs": [
        {
          "output_type": "execute_result",
          "data": {
            "text/plain": [
              "11"
            ]
          },
          "metadata": {},
          "execution_count": 6
        }
      ]
    },
    {
      "cell_type": "code",
      "source": [
        "#indexleme (indeksleme), Python'da bir veri yapısının (liste, tuple, dize vb.) belirli bir öğesine erişmek için kullanılan bir kavramdır.\n",
        "\n",
        "harfler=\"acrtjhgmjmgm\"\n",
        "harfler\n"
      ],
      "metadata": {
        "colab": {
          "base_uri": "https://localhost:8080/",
          "height": 35
        },
        "id": "kK0YorzFMO6_",
        "outputId": "378e8c90-0ca0-4ed6-81ba-04e64f249bd0"
      },
      "execution_count": null,
      "outputs": [
        {
          "output_type": "execute_result",
          "data": {
            "text/plain": [
              "'acrtjhgmjmgm'"
            ],
            "application/vnd.google.colaboratory.intrinsic+json": {
              "type": "string"
            }
          },
          "metadata": {},
          "execution_count": 7
        }
      ]
    },
    {
      "cell_type": "code",
      "source": [
        "harfler[5]"
      ],
      "metadata": {
        "colab": {
          "base_uri": "https://localhost:8080/",
          "height": 35
        },
        "id": "V3-sgCswMZFM",
        "outputId": "bad7dcfe-b5ff-481f-823d-cd2843574cb6"
      },
      "execution_count": null,
      "outputs": [
        {
          "output_type": "execute_result",
          "data": {
            "text/plain": [
              "'h'"
            ],
            "application/vnd.google.colaboratory.intrinsic+json": {
              "type": "string"
            }
          },
          "metadata": {},
          "execution_count": 8
        }
      ]
    },
    {
      "cell_type": "code",
      "source": [
        "#slice dilimleme işlemidir\n",
        "harfler[0:5]"
      ],
      "metadata": {
        "colab": {
          "base_uri": "https://localhost:8080/",
          "height": 35
        },
        "id": "po0WXnrJMj7P",
        "outputId": "aac5f206-1942-47e9-be93-559d5ec600fa"
      },
      "execution_count": null,
      "outputs": [
        {
          "output_type": "execute_result",
          "data": {
            "text/plain": [
              "'acrtj'"
            ],
            "application/vnd.google.colaboratory.intrinsic+json": {
              "type": "string"
            }
          },
          "metadata": {},
          "execution_count": 9
        }
      ]
    },
    {
      "cell_type": "code",
      "source": [
        "#input kullanıcıdan veri girilmesini sağlar\n",
        "name=input(\"isminiz nedir?\")\n",
        "print(name)"
      ],
      "metadata": {
        "colab": {
          "base_uri": "https://localhost:8080/"
        },
        "id": "vyEj9GrAM3g4",
        "outputId": "8b92595d-5083-46d4-d7e5-32d32b4f420b"
      },
      "execution_count": null,
      "outputs": [
        {
          "output_type": "stream",
          "name": "stdout",
          "text": [
            "isminiz nedir?eda\n",
            "eda\n"
          ]
        }
      ]
    },
    {
      "cell_type": "markdown",
      "source": [
        "üyelik operatör"
      ],
      "metadata": {
        "id": "1sVMptttKtSU"
      }
    },
    {
      "cell_type": "code",
      "source": [
        "##üçüncü atölyee koşullar ve döngüler\n",
        "x=7\n",
        "\n",
        "if x>0:\n",
        " print(x,\"pozitiftir\")\n"
      ],
      "metadata": {
        "colab": {
          "base_uri": "https://localhost:8080/"
        },
        "id": "pwxQPl7Df9Li",
        "outputId": "78577559-f53a-434b-a9de-a5b6b6916e89"
      },
      "execution_count": null,
      "outputs": [
        {
          "output_type": "stream",
          "name": "stdout",
          "text": [
            "7 pozitiftir\n"
          ]
        }
      ]
    },
    {
      "cell_type": "code",
      "source": [
        "sayi=int(input(\"1 ile 15 arasında bir sayı giriniz:\"))\n",
        "print(\"girdiğiniz sayı:\",sayi)"
      ],
      "metadata": {
        "colab": {
          "base_uri": "https://localhost:8080/"
        },
        "id": "J9vs5_eTgoJ7",
        "outputId": "d6ca3d60-f2c6-4668-9348-8486e164632c"
      },
      "execution_count": null,
      "outputs": [
        {
          "output_type": "stream",
          "name": "stdout",
          "text": [
            "1 ile 15 arasında bir sayı giriniz:8\n",
            "girdiğiniz sayı: 8\n"
          ]
        }
      ]
    },
    {
      "cell_type": "code",
      "source": [],
      "metadata": {
        "id": "6XQZy5rRhaOT"
      },
      "execution_count": null,
      "outputs": []
    },
    {
      "cell_type": "code",
      "source": [
        "# eğer ki sayı 15'den büyük olursa büyük sayı girdiğinin uyarısını versin.\n",
        "\n",
        "if sayi>15:\n",
        "   print(\"büyük sayı girdiniz\")"
      ],
      "metadata": {
        "id": "aqLmviItg3Z9"
      },
      "execution_count": null,
      "outputs": []
    },
    {
      "cell_type": "code",
      "source": [
        "# sayı eğer ki negatif ise negatif sayı girdiniz uyarısı versin\n",
        "if sayi<0:\n",
        "   print(\"negatif sayı girdiniz\")"
      ],
      "metadata": {
        "id": "3X_JY-crhPhZ"
      },
      "execution_count": null,
      "outputs": []
    },
    {
      "cell_type": "code",
      "source": [
        "sayi=int(input(\"1 ile 15 arasında bir sayı giriniz:\"))\n",
        "if sayi>15:\n",
        "  print(\"büyük sayı girdiniz\")\n",
        "elif sayi<0:\n",
        "  print(\"negatif sayı girdiniz\")\n",
        "\n"
      ],
      "metadata": {
        "colab": {
          "base_uri": "https://localhost:8080/"
        },
        "id": "oEUz9XxrhcEk",
        "outputId": "f21e6f23-c8ec-42d5-f890-635f49deab42"
      },
      "execution_count": null,
      "outputs": [
        {
          "output_type": "stream",
          "name": "stdout",
          "text": [
            "1 ile 15 arasında bir sayı giriniz:-2\n",
            "negatif sayı girdiniz\n"
          ]
        }
      ]
    },
    {
      "cell_type": "code",
      "source": [
        "sayi=int(input(\"1 ile 100 arasında bir sayı giriniz:\"))\n",
        "if sayi>100:\n",
        "  print(\"büyük sayı girdiniz\")\n",
        "elif sayi<0:\n",
        "  print(\"negatif sayı girdiniz\")\n",
        "else:\n",
        "  print(\"sayı 1 ile 100 arasında olmalı!\")"
      ],
      "metadata": {
        "colab": {
          "base_uri": "https://localhost:8080/"
        },
        "id": "p0oub_wmhzIN",
        "outputId": "402098cb-5ad3-48c6-861e-57aa9d743ae4"
      },
      "execution_count": null,
      "outputs": [
        {
          "output_type": "stream",
          "name": "stdout",
          "text": [
            "1 ile 100 arasında bir sayı giriniz:101\n",
            "büyük sayı girdiniz\n"
          ]
        }
      ]
    },
    {
      "cell_type": "code",
      "source": [
        "#Bir oyunda toplanan skorların toplam sonucunu çok iyi, iyi, kötü olarak üç kategoriye ayıralım.\n",
        "\n",
        "#en fazla 100 olabilir.\n",
        "\n",
        "#40 : Kötü 40-70 : İyi 70-100 : Çok iyi\n",
        "skor=int(input(\"oyunda topladığınız skoru giriniz:\"))\n",
        "if skor<=40:\n",
        " print(\"kötü daha fazla sayı toplamalısın\")\n",
        "elif skor<=70:\n",
        " print(\"iyi skor!\")\n",
        "elif skor<=100:\n",
        "  print(\"tebrikler çok iyi skor\")\n",
        "else:\n",
        "  print(\"geçersiz değer\")"
      ],
      "metadata": {
        "colab": {
          "base_uri": "https://localhost:8080/"
        },
        "id": "0PYaEQ8himWV",
        "outputId": "27143938-9a60-4c7d-d75d-cb8543d63bb5"
      },
      "execution_count": null,
      "outputs": [
        {
          "output_type": "stream",
          "name": "stdout",
          "text": [
            "oyunda topladığınız skoru giriniz:65\n",
            "iyi skor!\n"
          ]
        }
      ]
    },
    {
      "cell_type": "code",
      "source": [
        "#Bir hava durumu uygulamasında, kullanıcıdan günün sıcaklığı (santigrat cinsinden) alınarak hava durumu kategorisi belirlenmek isteniyor.\n",
        "\n",
        "#Kategoriler şu şekilde olsun:\n",
        "\n",
        "#0°C ve altı: Çok soğuk 1°C - 15°C arası: Serin 16°C - 30°C arası: Ilık 31°C ve üzeri: Sıcak Kullanıcıdan bir sıcaklık değeri alınacak ve\n",
        "#bu değere göre uygun mesaj yazdırılacak.\n",
        "\n",
        "sicaklik=float(input(\"hava sıcaklığını( (santigrat cinsinden)) giriniz:\"))\n",
        "if sicaklik<=0:\n",
        " print(\"Çok soğuk\")\n",
        "elif 1<=sicaklik<=15:\n",
        "  print(\"Serin\")\n",
        "elif 16<=sicaklik<=30:\n",
        "  print(\"Ilık\")\n",
        "else:\n",
        "  print(\"Sıcak\")"
      ],
      "metadata": {
        "colab": {
          "base_uri": "https://localhost:8080/"
        },
        "id": "Ip-xyTQ3jipY",
        "outputId": "f37cc38f-ad79-4216-9178-b107960201f0"
      },
      "execution_count": null,
      "outputs": [
        {
          "output_type": "stream",
          "name": "stdout",
          "text": [
            "hava sıcaklığını( (santigrat cinsinden)) giriniz:16\n",
            "Ilık\n"
          ]
        }
      ]
    },
    {
      "cell_type": "code",
      "source": [
        "a=1\n",
        "\n",
        "while a<=10:\n",
        "  print(\"Merhaba\")\n",
        "  a+=1"
      ],
      "metadata": {
        "colab": {
          "base_uri": "https://localhost:8080/"
        },
        "id": "CMYmLMlBkz8Z",
        "outputId": "f6483c4a-58fa-41f4-9c0a-a420b4a28899"
      },
      "execution_count": null,
      "outputs": [
        {
          "output_type": "stream",
          "name": "stdout",
          "text": [
            "Merhaba\n",
            "Merhaba\n",
            "Merhaba\n",
            "Merhaba\n",
            "Merhaba\n",
            "Merhaba\n",
            "Merhaba\n",
            "Merhaba\n",
            "Merhaba\n",
            "Merhaba\n"
          ]
        }
      ]
    },
    {
      "cell_type": "code",
      "source": [
        "\n",
        "a=1\n",
        "\n",
        "while a<=10:\n",
        "  print(a)\n",
        "  a+=1\n",
        "\n"
      ],
      "metadata": {
        "colab": {
          "base_uri": "https://localhost:8080/"
        },
        "id": "Pnhok-BJmePi",
        "outputId": "bea4a6f0-9e6a-4d67-8b09-056913526449"
      },
      "execution_count": null,
      "outputs": [
        {
          "output_type": "stream",
          "name": "stdout",
          "text": [
            "1\n",
            "2\n",
            "3\n",
            "4\n",
            "5\n",
            "6\n",
            "7\n",
            "8\n",
            "9\n",
            "10\n"
          ]
        }
      ]
    },
    {
      "cell_type": "code",
      "source": [
        "#0'dan 10'a kadar çift sayıları ekrana yazıralım.\n",
        "a=0\n",
        "while a<=10:\n",
        " if a%2==0:\n",
        "   print(a)\n",
        " a+=1"
      ],
      "metadata": {
        "colab": {
          "base_uri": "https://localhost:8080/"
        },
        "id": "ZHVDGWrfmr9B",
        "outputId": "6d4270e4-72ee-4944-eaed-e77b86b6956d"
      },
      "execution_count": null,
      "outputs": [
        {
          "output_type": "stream",
          "name": "stdout",
          "text": [
            "0\n",
            "2\n",
            "4\n",
            "6\n",
            "8\n",
            "10\n"
          ]
        }
      ]
    },
    {
      "cell_type": "code",
      "source": [
        "#kahve makineleri, kullanıcı bir seçim yapsın, 2 ve 4 arasındaki ürünler yok.\n",
        "while True:\n",
        "  secim=int(input(\"Kahve seçimi yapınız: (0-Çıkış,2-4-Ürün yok)\"))\n",
        "  if secim==0:\n",
        "    print(\"Çıkış yapılıyor..\")\n",
        "    break\n",
        "  elif 2<=secim<=4:\n",
        "    print(\"BU ürün mevcut değildir\")\n",
        "    pass\n",
        "  else:\n",
        "    print(\"Siparişiniz alındı.Afiyet olsun.\")\n",
        "\n"
      ],
      "metadata": {
        "colab": {
          "base_uri": "https://localhost:8080/"
        },
        "id": "Pl29dZXuRhGW",
        "outputId": "7f45823e-190a-4f0e-d838-60b0b517486e"
      },
      "execution_count": 5,
      "outputs": [
        {
          "output_type": "stream",
          "name": "stdout",
          "text": [
            "Kahve seçimi yapınız: (0-Çıkış,2-4-Ürün yok)5\n",
            "Siparişiniz alındı.Afiyet olsun.\n",
            "Kahve seçimi yapınız: (0-Çıkış,2-4-Ürün yok)3\n",
            "BU ürün mevcut değildir\n",
            "Kahve seçimi yapınız: (0-Çıkış,2-4-Ürün yok)0\n",
            "Çıkış yapılıyor..\n"
          ]
        }
      ]
    },
    {
      "cell_type": "code",
      "source": [
        "#for döngüsü her elaman için çalışacak olan döngü çeşididir\n",
        "sozcuk=\"Matematik\"\n",
        "for harf in sozcuk:\n",
        "  print(harf)\n",
        "\n"
      ],
      "metadata": {
        "colab": {
          "base_uri": "https://localhost:8080/"
        },
        "id": "QHl2j8uPW_TR",
        "outputId": "91653b6c-181a-418b-8acd-410996acc9cb"
      },
      "execution_count": 6,
      "outputs": [
        {
          "output_type": "stream",
          "name": "stdout",
          "text": [
            "M\n",
            "a\n",
            "t\n",
            "e\n",
            "m\n",
            "a\n",
            "t\n",
            "i\n",
            "k\n"
          ]
        }
      ]
    },
    {
      "cell_type": "code",
      "source": [
        "for sayi in range(10):\n",
        "  print(sayi)\n"
      ],
      "metadata": {
        "colab": {
          "base_uri": "https://localhost:8080/"
        },
        "id": "y0GMgmSLX_Yq",
        "outputId": "18481770-bf04-49cb-ae48-9eb9c7b01f71"
      },
      "execution_count": 7,
      "outputs": [
        {
          "output_type": "stream",
          "name": "stdout",
          "text": [
            "0\n",
            "1\n",
            "2\n",
            "3\n",
            "4\n",
            "5\n",
            "6\n",
            "7\n",
            "8\n",
            "9\n"
          ]
        }
      ]
    },
    {
      "cell_type": "code",
      "source": [
        "for i in range(4,9):\n",
        "  print(i)"
      ],
      "metadata": {
        "colab": {
          "base_uri": "https://localhost:8080/"
        },
        "id": "lk-w5P8iYJ3Y",
        "outputId": "a758e738-29cc-4ad9-dce8-446964fd5efc"
      },
      "execution_count": 8,
      "outputs": [
        {
          "output_type": "stream",
          "name": "stdout",
          "text": [
            "4\n",
            "5\n",
            "6\n",
            "7\n",
            "8\n"
          ]
        }
      ]
    },
    {
      "cell_type": "code",
      "source": [
        "for i in range(10,1,-2):\n",
        "  print(i)"
      ],
      "metadata": {
        "colab": {
          "base_uri": "https://localhost:8080/"
        },
        "id": "YNLvuZ8GYdPc",
        "outputId": "e6097f91-53dc-473e-99de-5279ffbc7c4e"
      },
      "execution_count": 11,
      "outputs": [
        {
          "output_type": "stream",
          "name": "stdout",
          "text": [
            "10\n",
            "8\n",
            "6\n",
            "4\n",
            "2\n"
          ]
        }
      ]
    },
    {
      "cell_type": "code",
      "source": [
        "for i in range(20):\n",
        "  if i%2==1:\n",
        "    pass\n",
        "  else:\n",
        "    print(i)"
      ],
      "metadata": {
        "colab": {
          "base_uri": "https://localhost:8080/"
        },
        "id": "Oa4CyNDCYuVo",
        "outputId": "3a19c737-31f4-4920-ce19-d1a3258800af"
      },
      "execution_count": 12,
      "outputs": [
        {
          "output_type": "stream",
          "name": "stdout",
          "text": [
            "0\n",
            "2\n",
            "4\n",
            "6\n",
            "8\n",
            "10\n",
            "12\n",
            "14\n",
            "16\n",
            "18\n"
          ]
        }
      ]
    },
    {
      "cell_type": "code",
      "source": [
        "#FONKSİYONLAR 4.ATÖLYEM\n",
        "def ekle(yas):\n",
        "  yeni_yas=yas+1\n",
        "  print(str(yas) + \" bir yaş daha alırsa \" + str(yeni_yas) + \" olur \")\n",
        "\n",
        "ekle(29)\n",
        "\n"
      ],
      "metadata": {
        "colab": {
          "base_uri": "https://localhost:8080/"
        },
        "id": "cZPlKPWeZOpJ",
        "outputId": "ecd60777-ed0e-425a-927c-d13ae6e9cb13"
      },
      "execution_count": 17,
      "outputs": [
        {
          "output_type": "stream",
          "name": "stdout",
          "text": [
            "29 bir yaş daha alırsa 30 olur \n"
          ]
        }
      ]
    },
    {
      "cell_type": "code",
      "source": [
        "#mesafe hesaplama\n",
        "def mesafe_hesapla(hız,süre):\n",
        "  mesafe=hız*süre\n",
        "  print(\" Araç saatte \" + str(hız) + \" km hızla \" + str(süre) + \" saatte \" + str(mesafe) + \" km yol gider.\")\n",
        "\n",
        "mesafe_hesapla(145,5)"
      ],
      "metadata": {
        "colab": {
          "base_uri": "https://localhost:8080/"
        },
        "id": "KieAPCSAditm",
        "outputId": "2fa9cec4-bf83-4e40-b915-5daf1f26ebf8"
      },
      "execution_count": 20,
      "outputs": [
        {
          "output_type": "stream",
          "name": "stdout",
          "text": [
            " Araç saatte 145 km hızla 5 saatte 725 km yol gider.\n"
          ]
        }
      ]
    },
    {
      "cell_type": "code",
      "source": [
        "def ekle(sayi):\n",
        "  yeni_sayi=sayi+1\n",
        "  print(\"{} sayısına 1 eklenirse {} sayısı elde edilir\".format(sayi,yeni_sayi))\n",
        "\n",
        "ekle(398)"
      ],
      "metadata": {
        "colab": {
          "base_uri": "https://localhost:8080/"
        },
        "id": "8PVkgBGceeuF",
        "outputId": "32c0faf9-6b41-4320-f528-7a119eaa142d"
      },
      "execution_count": 21,
      "outputs": [
        {
          "output_type": "stream",
          "name": "stdout",
          "text": [
            "398 sayısına 1 eklenirse 399 sayısı elde edilir\n"
          ]
        }
      ]
    },
    {
      "cell_type": "code",
      "source": [
        "#f-string, Python 3.6 ve sonrasında tanıtılan bir özelliktir ve değişkenleri ifadeleri string içerisinde daha okunabilir ve\n",
        "#kolay bir şekilde eklemenizi sağlar. f-string kullanarak, string içinde değişkenlerin değerlerini veya ifadelerin sonuçlarını eklemek için\n",
        "#süslü parantezler {} kullanırız. f-string, f veya F karakteri ile başlar.\n",
        "\n",
        "def ekle(sayi):\n",
        "  yeni_sayi=sayi+1\n",
        "  print(f\"{sayi} sayısına 1 eklenirse {yeni_sayi} elde ederiz\")\n",
        "\n",
        "ekle(78898)\n"
      ],
      "metadata": {
        "colab": {
          "base_uri": "https://localhost:8080/"
        },
        "id": "p7Tvh6H6fViF",
        "outputId": "c59cd706-9d34-4ee9-ac94-2e89b75e7947"
      },
      "execution_count": 22,
      "outputs": [
        {
          "output_type": "stream",
          "name": "stdout",
          "text": [
            "78898 sayısına 1 eklenirse 78899 elde ederiz\n"
          ]
        }
      ]
    },
    {
      "cell_type": "code",
      "source": [
        "isim=\"Eda\"\n",
        "soyisim=\"özdemir kurt\"\n",
        "print(f\"benim adım {isim} soyadım {soyisim}\")"
      ],
      "metadata": {
        "colab": {
          "base_uri": "https://localhost:8080/"
        },
        "id": "Z1cmCq9Sf4b-",
        "outputId": "e2243c4f-c95a-4861-908a-f19cdf484e26"
      },
      "execution_count": 23,
      "outputs": [
        {
          "output_type": "stream",
          "name": "stdout",
          "text": [
            "benim adım Eda soyadım özdemir kurt\n"
          ]
        }
      ]
    },
    {
      "cell_type": "code",
      "source": [
        "#fonksiyon örneği yazalım.\n",
        "#portakal sıkma makinesini bir fonksiyona dönüştürelim.\n",
        "\n",
        "def portakal_suyu_makinası(portakal):\n",
        "  portakal_suyu=portakal*0.5\n",
        "  print(f\"{portakal_suyu} bardak portakal suyu elde ettiniz\")\n",
        "\n",
        "portakal_sayisi=int(input(\"kaç portakal var?\"))\n",
        "portakal_suyu_makinası(portakal_sayisi)\n"
      ],
      "metadata": {
        "colab": {
          "base_uri": "https://localhost:8080/"
        },
        "id": "PTJ60_oMgKwq",
        "outputId": "11ac4724-97d8-47d9-d9ed-4765587dd9ad"
      },
      "execution_count": 25,
      "outputs": [
        {
          "output_type": "stream",
          "name": "stdout",
          "text": [
            "kaç portakal var?9\n",
            "4.5 bardak portakal suyu elde ettiniz\n"
          ]
        }
      ]
    },
    {
      "cell_type": "code",
      "source": [
        "#üç sayı tanımlama ve karesini print ile yazdıralım\n",
        "def hesaplama(sayi):\n",
        "  print(str(sayi) + \" sayısının karesi \" + str(sayi**2)  + \" , küpü ise \" + str(sayi**3) + \" olacaktır\")\n",
        "\n",
        "hesaplama(9)\n",
        "hesaplama(4)"
      ],
      "metadata": {
        "colab": {
          "base_uri": "https://localhost:8080/"
        },
        "id": "wOy0Y3bHg9T6",
        "outputId": "a48b48ba-f278-43d1-bed1-132f6406d83b"
      },
      "execution_count": 26,
      "outputs": [
        {
          "output_type": "stream",
          "name": "stdout",
          "text": [
            "9 sayısının karesi 81 , küpü ise 729 olacaktır\n",
            "4 sayısının karesi 16 , küpü ise 64 olacaktır\n"
          ]
        }
      ]
    },
    {
      "cell_type": "code",
      "source": [
        "def kare_hesaplama(sayi):\n",
        "    sonuc = sayi**2\n",
        "    print(sonuc)\n",
        "    return sonuc # Bu satır fonksiyonunun sonucunu döndürür\n",
        "\n",
        "kare_hesaplama(2) * 3\n",
        "kare_hesaplama(2) * \"Büşra \""
      ],
      "metadata": {
        "colab": {
          "base_uri": "https://localhost:8080/",
          "height": 70
        },
        "id": "jqC89VTRiGpl",
        "outputId": "c23deb02-f9fe-48e0-be61-7cf5453c30a2"
      },
      "execution_count": 28,
      "outputs": [
        {
          "output_type": "stream",
          "name": "stdout",
          "text": [
            "4\n",
            "4\n"
          ]
        },
        {
          "output_type": "execute_result",
          "data": {
            "text/plain": [
              "'Büşra Büşra Büşra Büşra '"
            ],
            "application/vnd.google.colaboratory.intrinsic+json": {
              "type": "string"
            }
          },
          "metadata": {},
          "execution_count": 28
        }
      ]
    },
    {
      "cell_type": "code",
      "source": [
        "# Python’da dinamik programlama yaparken işini kolaylaştırır.\n",
        "\n",
        "# 🔹 Önce Tanımlar\n",
        "\n",
        "# *args (tek yıldız) Birden fazla konum (sırasız) argümanı alır. Tüm gelen değerleri tuple içinde saklar.\n",
        "\n",
        "# **kwargs (çift yıldız) Anahtar=değer şeklinde gelen argümanları alır. Tüm gelen değerleri dictionary (sözlük) içinde saklar.\n",
        "\n",
        "# 🎯 Neden Bu Kadar Önemli?\n",
        "\n",
        "# Sen bir fonksiyon yazarken kaç tane değer geleceğini bilmiyorsan, veya kullanıcıdan gelen veri değişkenlik gösteriyorsa, bu yöntemleri kullanırsın.\n",
        "\n",
        "def topla(*args):\n",
        "  toplam=0\n",
        "  for sayi in args:\n",
        "    toplam+=sayi\n",
        "  print(\"toplam:\",toplam)\n",
        "\n",
        "topla(3,5)\n",
        "topla(3,5,7)\n",
        "topla(3,5,7,9)\n",
        "\n"
      ],
      "metadata": {
        "colab": {
          "base_uri": "https://localhost:8080/"
        },
        "id": "_YM-jAWIinh_",
        "outputId": "23dfccef-0113-431e-a81b-9fd31147956e"
      },
      "execution_count": 30,
      "outputs": [
        {
          "output_type": "stream",
          "name": "stdout",
          "text": [
            "toplam: 8\n",
            "toplam: 15\n",
            "toplam: 24\n"
          ]
        }
      ]
    },
    {
      "cell_type": "code",
      "source": [],
      "metadata": {
        "id": "nq2Ps_Dbjg8S"
      },
      "execution_count": null,
      "outputs": []
    }
  ]
}